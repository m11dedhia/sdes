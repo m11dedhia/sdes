{
  "nbformat": 4,
  "nbformat_minor": 0,
  "metadata": {
    "colab": {
      "name": "SDES.ipynb",
      "provenance": [],
      "collapsed_sections": [],
      "authorship_tag": "ABX9TyPf5JtL8CqDHpv3Bun6qKD9",
      "include_colab_link": true
    },
    "kernelspec": {
      "name": "python3",
      "display_name": "Python 3"
    },
    "language_info": {
      "name": "python"
    }
  },
  "cells": [
    {
      "cell_type": "markdown",
      "metadata": {
        "id": "view-in-github",
        "colab_type": "text"
      },
      "source": [
        "<a href=\"https://colab.research.google.com/github/m11dedhia/sdes/blob/master/SDES.ipynb\" target=\"_parent\"><img src=\"https://colab.research.google.com/assets/colab-badge.svg\" alt=\"Open In Colab\"/></a>"
      ]
    },
    {
      "cell_type": "code",
      "execution_count": null,
      "metadata": {
        "id": "TlRU-8F2rHIU"
      },
      "outputs": [],
      "source": [
        "import numpy as np"
      ]
    },
    {
      "cell_type": "code",
      "source": [
        "def p10(arr):\n",
        "  return [arr[2], arr[4], arr[1], arr[6], arr[3], arr[9], arr[0], arr[8], arr[7], arr[5]]\n",
        "\n",
        "def p8(arr):\n",
        "  return [arr[5], arr[2], arr[6], arr[3], arr[7], arr[4], arr[9], arr[8]]\n",
        "\n",
        "def p4(arr):\n",
        "  return [arr[1], arr[3], arr[2], arr[0]]\n",
        "\n",
        "def left_shift_1bit(arr):\n",
        "  return [*arr[1:], arr[0]]\n",
        "\n",
        "def left_shift_2bit(arr):\n",
        "  return [*arr[2:], *arr[:2]]\n",
        "\n",
        "def cut_half(arr):\n",
        "  return arr[:len(arr) // 2], arr[len(arr) // 2:]\n",
        "\n",
        "def ip8(arr):\n",
        "  return [arr[1], arr[5], arr[2], arr[0], arr[3], arr[7], arr[4], arr[6]]\n",
        "\n",
        "def ip8_inverse(arr):\n",
        "  return [arr[3], arr[0], arr[2], arr[4], arr[6], arr[1], arr[7], arr[5]]\n",
        "\n",
        "def ep8(arr):\n",
        "  return [arr[3], arr[0], arr[1], arr[2], arr[1], arr[2], arr[3], arr[0]]\n",
        "\n",
        "s0 = np.array([[[0, 1], [0, 0], [1, 1], [1, 0]],\n",
        "               [[1, 1], [1, 0], [0, 1], [0, 0]],\n",
        "               [[0, 0], [1, 0], [0, 1], [1, 1]],\n",
        "               [[1, 1], [0, 1], [1, 1], [1, 0]]])\n",
        "\n",
        "s1 = np.array([[[0, 0], [0, 1], [1, 0], [1, 1]],\n",
        "               [[1, 0], [0, 0], [0, 1], [1, 1]],\n",
        "               [[1, 1], [0, 0], [0, 1], [0, 0]],\n",
        "               [[1, 0], [0, 1], [0, 0], [1, 1]]])"
      ],
      "metadata": {
        "id": "Xvfi5mQEtSQM"
      },
      "execution_count": null,
      "outputs": []
    },
    {
      "cell_type": "code",
      "source": [
        "def generate_keys(key):\n",
        "  half1, half2 = cut_half(p10(key))\n",
        "  left_shift1_half1 = left_shift_1bit(half1)\n",
        "  left_shift1_half2 = left_shift_1bit(half2)\n",
        "  left_shift2_half1 = left_shift_2bit(left_shift1_half1)\n",
        "  left_shift2_half2 = left_shift_2bit(left_shift1_half2)\n",
        "  key1 = p8(np.concatenate((left_shift1_half1, left_shift1_half2)))\n",
        "  key2 = p8(np.concatenate((left_shift2_half1, left_shift2_half2)))\n",
        "  return key1, key2"
      ],
      "metadata": {
        "id": "3wqAgYd8afQ3"
      },
      "execution_count": null,
      "outputs": []
    },
    {
      "cell_type": "code",
      "source": [
        "def fiestel(left_half, right_half, key):\n",
        "  expanded_right = ep8(right_half)\n",
        "  xored = np.bitwise_xor(expanded_right, key)\n",
        "  xored_left_half, xored_right_half = cut_half(xored)\n",
        "  p_s_boxed = p4(np.concatenate((s0[(2 * xored_left_half[0]) + (xored_left_half[3])][(2 * xored_left_half[1]) + (xored_left_half[2])], s1[(2 * xored_right_half[0]) + (xored_right_half[3])][(2 * xored_right_half[1]) + (xored_right_half[2])])))\n",
        "  return np.bitwise_xor(left_half, p_s_boxed), right_half"
      ],
      "metadata": {
        "id": "zOEe8jNlE6h-"
      },
      "execution_count": null,
      "outputs": []
    },
    {
      "cell_type": "code",
      "source": [
        "def encrypt(plain_text, key):\n",
        "  key1, key2 = generate_keys(key)\n",
        "  left_half, right_half = cut_half(ip8(plain_text))\n",
        "  before_switch_left, before_switch_right = fiestel(left_half, right_half, key1)\n",
        "  # after switch\n",
        "  after_switch_left, after_switch_right = fiestel(right_half, before_switch_left, key2)\n",
        "  cipher = ip8_inverse(np.concatenate((after_switch_left, after_switch_right)))\n",
        "  return cipher"
      ],
      "metadata": {
        "id": "7E-HpHTja-I2"
      },
      "execution_count": null,
      "outputs": []
    },
    {
      "cell_type": "code",
      "source": [
        "print(encrypt([0, 1, 0, 1, 1, 1, 0, 1], [1, 0, 0, 1, 1, 0, 1, 1, 1, 0]))"
      ],
      "metadata": {
        "id": "Bxhlcpxjh7il",
        "colab": {
          "base_uri": "https://localhost:8080/"
        },
        "outputId": "8fc339f7-6aed-4b9b-eaa0-2935038c4e8a"
      },
      "execution_count": null,
      "outputs": [
        {
          "output_type": "stream",
          "name": "stdout",
          "text": [
            "[1, 0, 1, 1, 0, 0, 0, 0]\n"
          ]
        }
      ]
    },
    {
      "cell_type": "code",
      "source": [
        "def decrypt(cipher_text, key):\n",
        "  key1, key2 = generate_keys(key)\n",
        "  left_half, right_half = cut_half(ip8(cipher_text))\n",
        "  before_switch_left, before_switch_right = fiestel(left_half, right_half, key2)\n",
        "  # after switch\n",
        "  after_switch_left, after_switch_right = fiestel(right_half, before_switch_left, key1)\n",
        "  plain = ip8_inverse(np.concatenate((after_switch_left, after_switch_right)))\n",
        "  return plain"
      ],
      "metadata": {
        "id": "9oB5PucuimpE"
      },
      "execution_count": null,
      "outputs": []
    },
    {
      "cell_type": "code",
      "source": [
        "print(decrypt([1, 0, 1, 1, 0, 0, 0, 0], [1, 0, 0, 1, 1, 0, 1, 1, 1, 0]))"
      ],
      "metadata": {
        "colab": {
          "base_uri": "https://localhost:8080/"
        },
        "id": "cKmqiYhhWuDt",
        "outputId": "7723dd35-36c0-46b9-da48-d612cbbfde06"
      },
      "execution_count": null,
      "outputs": [
        {
          "output_type": "stream",
          "name": "stdout",
          "text": [
            "[0, 1, 0, 1, 1, 1, 0, 1]\n"
          ]
        }
      ]
    },
    {
      "cell_type": "code",
      "source": [
        ""
      ],
      "metadata": {
        "id": "errEmQuwWz84"
      },
      "execution_count": null,
      "outputs": []
    }
  ]
}